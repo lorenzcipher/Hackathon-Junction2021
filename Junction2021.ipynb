{
  "nbformat": 4,
  "nbformat_minor": 0,
  "metadata": {
    "colab": {
      "name": "SVM.ipynb",
      "provenance": [],
      "collapsed_sections": [
        "Mhzl9stK0QPn",
        "uTPKtxBayLTY",
        "0PuMxzlZJ8e5",
        "pcP9Lrn4dqoa",
        "PAHAKoN39YQS",
        "78dSr0q9RrWT",
        "IqBiGDX1dKL1",
        "hB6J04GsYcvw"
      ],
      "include_colab_link": true
    },
    "kernelspec": {
      "name": "python3",
      "display_name": "Python 3"
    },
    "language_info": {
      "name": "python"
    }
  },
  "cells": [
    {
      "cell_type": "markdown",
      "metadata": {
        "id": "view-in-github",
        "colab_type": "text"
      },
      "source": [
        "<a href=\"https://colab.research.google.com/github/lorenzcipher/Hackathon-Junction2021/blob/main/Junction2021.ipynb\" target=\"_parent\"><img src=\"https://colab.research.google.com/assets/colab-badge.svg\" alt=\"Open In Colab\"/></a>"
      ]
    },
    {
      "cell_type": "markdown",
      "metadata": {
        "id": "wGoQnwwcYKDd"
      },
      "source": [
        "#PACKAGES"
      ]
    },
    {
      "cell_type": "code",
      "metadata": {
        "id": "i6iXHmIPr94k"
      },
      "source": [
        "import pandas as pd\n",
        "import seaborn as sns\n",
        "import numpy as np\n",
        "import matplotlib.pyplot as plt\n",
        "from sklearn import svm\n",
        "from sklearn.model_selection import train_test_split\n",
        "from sklearn.preprocessing import LabelEncoder, OneHotEncoder\n",
        "#Import scikit-learn metrics module for accuracy calculation\n",
        "from sklearn import metrics\n",
        "from sklearn.ensemble import RandomForestClassifier\n",
        "from sklearn.linear_model import LogisticRegression\n",
        "from sklearn import  preprocessing"
      ],
      "execution_count": 43,
      "outputs": []
    },
    {
      "cell_type": "markdown",
      "metadata": {
        "id": "EswL2L2I0K2l"
      },
      "source": [
        "# **Lecture de la data**"
      ]
    },
    {
      "cell_type": "code",
      "metadata": {
        "id": "Hadi06ce0N2D"
      },
      "source": [
        "#load data train\n",
        "df_train = pd.read_csv(\"train.csv\", sep=\",\", encoding=\"utf-8\")"
      ],
      "execution_count": 44,
      "outputs": []
    },
    {
      "cell_type": "markdown",
      "metadata": {
        "id": "Mhzl9stK0QPn"
      },
      "source": [
        "# **Demande d'email pour valeur Null**"
      ]
    },
    {
      "cell_type": "code",
      "metadata": {
        "id": "weyK4hk90VUn",
        "colab": {
          "base_uri": "https://localhost:8080/",
          "height": 0
        },
        "outputId": "52194838-a212-4d51-8abc-ca51c2ba14cd"
      },
      "source": [
        "df_train.replace('0113eba6-6928-461a-b994-35a0b2eb9f4e', np.nan)"
      ],
      "execution_count": 45,
      "outputs": [
        {
          "output_type": "execute_result",
          "data": {
            "text/html": [
              "<div>\n",
              "<style scoped>\n",
              "    .dataframe tbody tr th:only-of-type {\n",
              "        vertical-align: middle;\n",
              "    }\n",
              "\n",
              "    .dataframe tbody tr th {\n",
              "        vertical-align: top;\n",
              "    }\n",
              "\n",
              "    .dataframe thead th {\n",
              "        text-align: right;\n",
              "    }\n",
              "</style>\n",
              "<table border=\"1\" class=\"dataframe\">\n",
              "  <thead>\n",
              "    <tr style=\"text-align: right;\">\n",
              "      <th></th>\n",
              "      <th>case_id</th>\n",
              "      <th>equipment_id</th>\n",
              "      <th>completion_date</th>\n",
              "      <th>action_recommendation_id</th>\n",
              "      <th>action_recommendation_type</th>\n",
              "      <th>action_recommendation_category</th>\n",
              "      <th>equipment_area</th>\n",
              "      <th>usage_type</th>\n",
              "      <th>speed_category</th>\n",
              "      <th>load_category</th>\n",
              "      <th>floors_category</th>\n",
              "      <th>equipment_category</th>\n",
              "      <th>feedback</th>\n",
              "    </tr>\n",
              "  </thead>\n",
              "  <tbody>\n",
              "    <tr>\n",
              "      <th>0</th>\n",
              "      <td>b7c775ad-4ebe-4848-9c53-37e7c5658e21</td>\n",
              "      <td>ele0000754</td>\n",
              "      <td>2018-10-03</td>\n",
              "      <td>ar00000174</td>\n",
              "      <td>art01</td>\n",
              "      <td>arc03</td>\n",
              "      <td>ga00000803</td>\n",
              "      <td>ut012</td>\n",
              "      <td>7</td>\n",
              "      <td>6</td>\n",
              "      <td>8</td>\n",
              "      <td>tp006</td>\n",
              "      <td>1</td>\n",
              "    </tr>\n",
              "    <tr>\n",
              "      <th>1</th>\n",
              "      <td>b177eefd-3946-4949-9699-0a91879350f9</td>\n",
              "      <td>ele0000789</td>\n",
              "      <td>2018-10-03</td>\n",
              "      <td>ar00000248</td>\n",
              "      <td>art02</td>\n",
              "      <td>arc03</td>\n",
              "      <td>ga00000269</td>\n",
              "      <td>ut005</td>\n",
              "      <td>4</td>\n",
              "      <td>6</td>\n",
              "      <td>2</td>\n",
              "      <td>tp001</td>\n",
              "      <td>1</td>\n",
              "    </tr>\n",
              "    <tr>\n",
              "      <th>2</th>\n",
              "      <td>fc2d568a-c53c-43ef-8871-a49ec22ab3b1</td>\n",
              "      <td>ele0001227</td>\n",
              "      <td>2018-10-03</td>\n",
              "      <td>ar00000158</td>\n",
              "      <td>art02</td>\n",
              "      <td>arc03</td>\n",
              "      <td>ga00000064</td>\n",
              "      <td>ut011</td>\n",
              "      <td>6</td>\n",
              "      <td>6</td>\n",
              "      <td>7</td>\n",
              "      <td>tp006</td>\n",
              "      <td>1</td>\n",
              "    </tr>\n",
              "    <tr>\n",
              "      <th>3</th>\n",
              "      <td>8e645922-1268-4c6b-ae6b-7b1605689cca</td>\n",
              "      <td>ele0001754</td>\n",
              "      <td>2018-10-03</td>\n",
              "      <td>ar00000105</td>\n",
              "      <td>art01</td>\n",
              "      <td>arc03</td>\n",
              "      <td>ga00000662</td>\n",
              "      <td>ut005</td>\n",
              "      <td>8</td>\n",
              "      <td>7</td>\n",
              "      <td>8</td>\n",
              "      <td>tp014</td>\n",
              "      <td>1</td>\n",
              "    </tr>\n",
              "    <tr>\n",
              "      <th>4</th>\n",
              "      <td>b44f10b1-9238-44db-8f0c-2d68e8c015a7</td>\n",
              "      <td>ele0002087</td>\n",
              "      <td>2018-10-03</td>\n",
              "      <td>ar00000148</td>\n",
              "      <td>art02</td>\n",
              "      <td>arc03</td>\n",
              "      <td>ga00001256</td>\n",
              "      <td>ut011</td>\n",
              "      <td>7</td>\n",
              "      <td>6</td>\n",
              "      <td>8</td>\n",
              "      <td>tp013</td>\n",
              "      <td>1</td>\n",
              "    </tr>\n",
              "    <tr>\n",
              "      <th>...</th>\n",
              "      <td>...</td>\n",
              "      <td>...</td>\n",
              "      <td>...</td>\n",
              "      <td>...</td>\n",
              "      <td>...</td>\n",
              "      <td>...</td>\n",
              "      <td>...</td>\n",
              "      <td>...</td>\n",
              "      <td>...</td>\n",
              "      <td>...</td>\n",
              "      <td>...</td>\n",
              "      <td>...</td>\n",
              "      <td>...</td>\n",
              "    </tr>\n",
              "    <tr>\n",
              "      <th>115470</th>\n",
              "      <td>8eda4489-c34c-4e8a-b592-ad57b5fd842a</td>\n",
              "      <td>ele0029759</td>\n",
              "      <td>2020-01-30</td>\n",
              "      <td>ar00000124</td>\n",
              "      <td>art01</td>\n",
              "      <td>arc03</td>\n",
              "      <td>ga00000817</td>\n",
              "      <td>ut011</td>\n",
              "      <td>6</td>\n",
              "      <td>7</td>\n",
              "      <td>8</td>\n",
              "      <td>tp005</td>\n",
              "      <td>1</td>\n",
              "    </tr>\n",
              "    <tr>\n",
              "      <th>115471</th>\n",
              "      <td>NaN</td>\n",
              "      <td>ele0029783</td>\n",
              "      <td>2020-01-30</td>\n",
              "      <td>ar00000291</td>\n",
              "      <td>art02</td>\n",
              "      <td>arc01</td>\n",
              "      <td>ga00001027</td>\n",
              "      <td>ut001</td>\n",
              "      <td>4</td>\n",
              "      <td>3</td>\n",
              "      <td>1</td>\n",
              "      <td>tp015</td>\n",
              "      <td>1</td>\n",
              "    </tr>\n",
              "    <tr>\n",
              "      <th>115472</th>\n",
              "      <td>c2eab0dc-218a-4a95-ab28-47449f42f660</td>\n",
              "      <td>ele0029785</td>\n",
              "      <td>2020-01-30</td>\n",
              "      <td>ar00000048</td>\n",
              "      <td>art01</td>\n",
              "      <td>arc02</td>\n",
              "      <td>ga00000355</td>\n",
              "      <td>ut011</td>\n",
              "      <td>2</td>\n",
              "      <td>1</td>\n",
              "      <td>4</td>\n",
              "      <td>tp002</td>\n",
              "      <td>1</td>\n",
              "    </tr>\n",
              "    <tr>\n",
              "      <th>115473</th>\n",
              "      <td>c2eab0dc-218a-4a95-ab28-47449f42f660</td>\n",
              "      <td>ele0029785</td>\n",
              "      <td>2020-01-30</td>\n",
              "      <td>ar00000293</td>\n",
              "      <td>art01</td>\n",
              "      <td>arc02</td>\n",
              "      <td>ga00000355</td>\n",
              "      <td>ut011</td>\n",
              "      <td>2</td>\n",
              "      <td>1</td>\n",
              "      <td>4</td>\n",
              "      <td>tp002</td>\n",
              "      <td>1</td>\n",
              "    </tr>\n",
              "    <tr>\n",
              "      <th>115474</th>\n",
              "      <td>6559b358-5f70-44b9-b0ef-17877fe6cd8f</td>\n",
              "      <td>ele0029903</td>\n",
              "      <td>2020-01-30</td>\n",
              "      <td>ar00000174</td>\n",
              "      <td>art01</td>\n",
              "      <td>arc03</td>\n",
              "      <td>ga00000445</td>\n",
              "      <td>ut007</td>\n",
              "      <td>6</td>\n",
              "      <td>4</td>\n",
              "      <td>8</td>\n",
              "      <td>tp006</td>\n",
              "      <td>1</td>\n",
              "    </tr>\n",
              "  </tbody>\n",
              "</table>\n",
              "<p>115475 rows × 13 columns</p>\n",
              "</div>"
            ],
            "text/plain": [
              "                                     case_id  ... feedback\n",
              "0       b7c775ad-4ebe-4848-9c53-37e7c5658e21  ...        1\n",
              "1       b177eefd-3946-4949-9699-0a91879350f9  ...        1\n",
              "2       fc2d568a-c53c-43ef-8871-a49ec22ab3b1  ...        1\n",
              "3       8e645922-1268-4c6b-ae6b-7b1605689cca  ...        1\n",
              "4       b44f10b1-9238-44db-8f0c-2d68e8c015a7  ...        1\n",
              "...                                      ...  ...      ...\n",
              "115470  8eda4489-c34c-4e8a-b592-ad57b5fd842a  ...        1\n",
              "115471                                   NaN  ...        1\n",
              "115472  c2eab0dc-218a-4a95-ab28-47449f42f660  ...        1\n",
              "115473  c2eab0dc-218a-4a95-ab28-47449f42f660  ...        1\n",
              "115474  6559b358-5f70-44b9-b0ef-17877fe6cd8f  ...        1\n",
              "\n",
              "[115475 rows x 13 columns]"
            ]
          },
          "metadata": {},
          "execution_count": 45
        }
      ]
    },
    {
      "cell_type": "markdown",
      "metadata": {
        "id": "uTPKtxBayLTY"
      },
      "source": [
        "# Dimension de la data\n"
      ]
    },
    {
      "cell_type": "code",
      "metadata": {
        "id": "wZaAYtX8sBHy",
        "colab": {
          "base_uri": "https://localhost:8080/"
        },
        "outputId": "786e8b79-2eb5-4baf-84eb-81edd661ce45"
      },
      "source": [
        "df_train.shape"
      ],
      "execution_count": 46,
      "outputs": [
        {
          "output_type": "execute_result",
          "data": {
            "text/plain": [
              "(115475, 13)"
            ]
          },
          "metadata": {},
          "execution_count": 46
        }
      ]
    },
    {
      "cell_type": "markdown",
      "metadata": {
        "id": "0PuMxzlZJ8e5"
      },
      "source": [
        "#Type de chaque attribut\n"
      ]
    },
    {
      "cell_type": "code",
      "metadata": {
        "id": "Zn-hIH1nJ_L4",
        "colab": {
          "base_uri": "https://localhost:8080/"
        },
        "outputId": "6e004257-3c06-4b93-81df-239234c95fb9"
      },
      "source": [
        "df_train.dtypes"
      ],
      "execution_count": 47,
      "outputs": [
        {
          "output_type": "execute_result",
          "data": {
            "text/plain": [
              "case_id                           object\n",
              "equipment_id                      object\n",
              "completion_date                   object\n",
              "action_recommendation_id          object\n",
              "action_recommendation_type        object\n",
              "action_recommendation_category    object\n",
              "equipment_area                    object\n",
              "usage_type                        object\n",
              "speed_category                     int64\n",
              "load_category                      int64\n",
              "floors_category                    int64\n",
              "equipment_category                object\n",
              "feedback                           int64\n",
              "dtype: object"
            ]
          },
          "metadata": {},
          "execution_count": 47
        }
      ]
    },
    {
      "cell_type": "markdown",
      "metadata": {
        "id": "pcP9Lrn4dqoa"
      },
      "source": [
        "# Verification si y a des valeurs manquates"
      ]
    },
    {
      "cell_type": "code",
      "metadata": {
        "id": "G9MHdhTaUMXR",
        "colab": {
          "base_uri": "https://localhost:8080/"
        },
        "outputId": "3e9d81e4-d229-4ae8-e64e-338358ff071d"
      },
      "source": [
        "(df_train.isna().sum() / df_train.shape[0]).sort_values()"
      ],
      "execution_count": 48,
      "outputs": [
        {
          "output_type": "execute_result",
          "data": {
            "text/plain": [
              "case_id                           0.0\n",
              "equipment_id                      0.0\n",
              "completion_date                   0.0\n",
              "action_recommendation_id          0.0\n",
              "action_recommendation_type        0.0\n",
              "action_recommendation_category    0.0\n",
              "equipment_area                    0.0\n",
              "usage_type                        0.0\n",
              "speed_category                    0.0\n",
              "load_category                     0.0\n",
              "floors_category                   0.0\n",
              "equipment_category                0.0\n",
              "feedback                          0.0\n",
              "dtype: float64"
            ]
          },
          "metadata": {},
          "execution_count": 48
        }
      ]
    },
    {
      "cell_type": "markdown",
      "metadata": {
        "id": "PAHAKoN39YQS"
      },
      "source": [
        "# Supprimer les variables non significatif "
      ]
    },
    {
      "cell_type": "code",
      "metadata": {
        "id": "6jmtIIs9yKHh",
        "colab": {
          "base_uri": "https://localhost:8080/",
          "height": 0
        },
        "outputId": "7fb962dd-a727-4568-9f4a-2dfc32d1d585"
      },
      "source": [
        "df_train.drop(['equipment_id', 'case_id', 'action_recommendation_id', 'equipment_area','completion_date'], axis=1, inplace=True)\n",
        "df_train"
      ],
      "execution_count": 49,
      "outputs": [
        {
          "output_type": "execute_result",
          "data": {
            "text/html": [
              "<div>\n",
              "<style scoped>\n",
              "    .dataframe tbody tr th:only-of-type {\n",
              "        vertical-align: middle;\n",
              "    }\n",
              "\n",
              "    .dataframe tbody tr th {\n",
              "        vertical-align: top;\n",
              "    }\n",
              "\n",
              "    .dataframe thead th {\n",
              "        text-align: right;\n",
              "    }\n",
              "</style>\n",
              "<table border=\"1\" class=\"dataframe\">\n",
              "  <thead>\n",
              "    <tr style=\"text-align: right;\">\n",
              "      <th></th>\n",
              "      <th>action_recommendation_type</th>\n",
              "      <th>action_recommendation_category</th>\n",
              "      <th>usage_type</th>\n",
              "      <th>speed_category</th>\n",
              "      <th>load_category</th>\n",
              "      <th>floors_category</th>\n",
              "      <th>equipment_category</th>\n",
              "      <th>feedback</th>\n",
              "    </tr>\n",
              "  </thead>\n",
              "  <tbody>\n",
              "    <tr>\n",
              "      <th>0</th>\n",
              "      <td>art01</td>\n",
              "      <td>arc03</td>\n",
              "      <td>ut012</td>\n",
              "      <td>7</td>\n",
              "      <td>6</td>\n",
              "      <td>8</td>\n",
              "      <td>tp006</td>\n",
              "      <td>1</td>\n",
              "    </tr>\n",
              "    <tr>\n",
              "      <th>1</th>\n",
              "      <td>art02</td>\n",
              "      <td>arc03</td>\n",
              "      <td>ut005</td>\n",
              "      <td>4</td>\n",
              "      <td>6</td>\n",
              "      <td>2</td>\n",
              "      <td>tp001</td>\n",
              "      <td>1</td>\n",
              "    </tr>\n",
              "    <tr>\n",
              "      <th>2</th>\n",
              "      <td>art02</td>\n",
              "      <td>arc03</td>\n",
              "      <td>ut011</td>\n",
              "      <td>6</td>\n",
              "      <td>6</td>\n",
              "      <td>7</td>\n",
              "      <td>tp006</td>\n",
              "      <td>1</td>\n",
              "    </tr>\n",
              "    <tr>\n",
              "      <th>3</th>\n",
              "      <td>art01</td>\n",
              "      <td>arc03</td>\n",
              "      <td>ut005</td>\n",
              "      <td>8</td>\n",
              "      <td>7</td>\n",
              "      <td>8</td>\n",
              "      <td>tp014</td>\n",
              "      <td>1</td>\n",
              "    </tr>\n",
              "    <tr>\n",
              "      <th>4</th>\n",
              "      <td>art02</td>\n",
              "      <td>arc03</td>\n",
              "      <td>ut011</td>\n",
              "      <td>7</td>\n",
              "      <td>6</td>\n",
              "      <td>8</td>\n",
              "      <td>tp013</td>\n",
              "      <td>1</td>\n",
              "    </tr>\n",
              "    <tr>\n",
              "      <th>...</th>\n",
              "      <td>...</td>\n",
              "      <td>...</td>\n",
              "      <td>...</td>\n",
              "      <td>...</td>\n",
              "      <td>...</td>\n",
              "      <td>...</td>\n",
              "      <td>...</td>\n",
              "      <td>...</td>\n",
              "    </tr>\n",
              "    <tr>\n",
              "      <th>115470</th>\n",
              "      <td>art01</td>\n",
              "      <td>arc03</td>\n",
              "      <td>ut011</td>\n",
              "      <td>6</td>\n",
              "      <td>7</td>\n",
              "      <td>8</td>\n",
              "      <td>tp005</td>\n",
              "      <td>1</td>\n",
              "    </tr>\n",
              "    <tr>\n",
              "      <th>115471</th>\n",
              "      <td>art02</td>\n",
              "      <td>arc01</td>\n",
              "      <td>ut001</td>\n",
              "      <td>4</td>\n",
              "      <td>3</td>\n",
              "      <td>1</td>\n",
              "      <td>tp015</td>\n",
              "      <td>1</td>\n",
              "    </tr>\n",
              "    <tr>\n",
              "      <th>115472</th>\n",
              "      <td>art01</td>\n",
              "      <td>arc02</td>\n",
              "      <td>ut011</td>\n",
              "      <td>2</td>\n",
              "      <td>1</td>\n",
              "      <td>4</td>\n",
              "      <td>tp002</td>\n",
              "      <td>1</td>\n",
              "    </tr>\n",
              "    <tr>\n",
              "      <th>115473</th>\n",
              "      <td>art01</td>\n",
              "      <td>arc02</td>\n",
              "      <td>ut011</td>\n",
              "      <td>2</td>\n",
              "      <td>1</td>\n",
              "      <td>4</td>\n",
              "      <td>tp002</td>\n",
              "      <td>1</td>\n",
              "    </tr>\n",
              "    <tr>\n",
              "      <th>115474</th>\n",
              "      <td>art01</td>\n",
              "      <td>arc03</td>\n",
              "      <td>ut007</td>\n",
              "      <td>6</td>\n",
              "      <td>4</td>\n",
              "      <td>8</td>\n",
              "      <td>tp006</td>\n",
              "      <td>1</td>\n",
              "    </tr>\n",
              "  </tbody>\n",
              "</table>\n",
              "<p>115475 rows × 8 columns</p>\n",
              "</div>"
            ],
            "text/plain": [
              "       action_recommendation_type  ... feedback\n",
              "0                           art01  ...        1\n",
              "1                           art02  ...        1\n",
              "2                           art02  ...        1\n",
              "3                           art01  ...        1\n",
              "4                           art02  ...        1\n",
              "...                           ...  ...      ...\n",
              "115470                      art01  ...        1\n",
              "115471                      art02  ...        1\n",
              "115472                      art01  ...        1\n",
              "115473                      art01  ...        1\n",
              "115474                      art01  ...        1\n",
              "\n",
              "[115475 rows x 8 columns]"
            ]
          },
          "metadata": {},
          "execution_count": 49
        }
      ]
    },
    {
      "cell_type": "markdown",
      "metadata": {
        "id": "FQVXdlR-d06I"
      },
      "source": [
        "# Stat Descriptif"
      ]
    },
    {
      "cell_type": "code",
      "metadata": {
        "id": "LEOORMvvd6I0"
      },
      "source": [
        ""
      ],
      "execution_count": null,
      "outputs": []
    },
    {
      "cell_type": "markdown",
      "metadata": {
        "id": "V9udS0aQ9sGS"
      },
      "source": [
        "#Encodage OneHotEncoder"
      ]
    },
    {
      "cell_type": "code",
      "metadata": {
        "id": "H_9Q1N0q92H6",
        "colab": {
          "base_uri": "https://localhost:8080/"
        },
        "outputId": "81d79133-16d7-4342-b9fe-230a568822ce"
      },
      "source": [
        "quali_df = df_train[['action_recommendation_type', 'action_recommendation_category', 'usage_type', 'equipment_category']]\n",
        "\n",
        "enc = preprocessing.OneHotEncoder(handle_unknown='ignore')\n",
        "enc.fit(quali_df)\n",
        "onehotlabels = enc.transform(quali_df).toarray()\n",
        "onehotlabels"
      ],
      "execution_count": 50,
      "outputs": [
        {
          "output_type": "execute_result",
          "data": {
            "text/plain": [
              "array([[1., 0., 0., ..., 0., 0., 0.],\n",
              "       [0., 1., 0., ..., 0., 0., 0.],\n",
              "       [0., 1., 0., ..., 0., 0., 0.],\n",
              "       ...,\n",
              "       [1., 0., 0., ..., 0., 0., 0.],\n",
              "       [1., 0., 0., ..., 0., 0., 0.],\n",
              "       [1., 0., 0., ..., 0., 0., 0.]])"
            ]
          },
          "metadata": {},
          "execution_count": 50
        }
      ]
    },
    {
      "cell_type": "code",
      "metadata": {
        "id": "5gBPYMhfg79Z",
        "colab": {
          "base_uri": "https://localhost:8080/"
        },
        "outputId": "6a0fcf4d-4e98-40cf-e03a-4702a15552f4"
      },
      "source": [
        "quanti_vars = df_train[[\"speed_category\", \"load_category\", \"floors_category\"]].to_numpy()\n",
        "new_df = np.concatenate((onehotlabels, quanti_vars), axis=1)\n",
        "\n",
        "new_df"
      ],
      "execution_count": 51,
      "outputs": [
        {
          "output_type": "execute_result",
          "data": {
            "text/plain": [
              "array([[1., 0., 0., ..., 7., 6., 8.],\n",
              "       [0., 1., 0., ..., 4., 6., 2.],\n",
              "       [0., 1., 0., ..., 6., 6., 7.],\n",
              "       ...,\n",
              "       [1., 0., 0., ..., 2., 1., 4.],\n",
              "       [1., 0., 0., ..., 2., 1., 4.],\n",
              "       [1., 0., 0., ..., 6., 4., 8.]])"
            ]
          },
          "metadata": {},
          "execution_count": 51
        }
      ]
    },
    {
      "cell_type": "markdown",
      "metadata": {
        "id": "j6E3DoyOhP30"
      },
      "source": [
        "# Data split train/validation"
      ]
    },
    {
      "cell_type": "code",
      "metadata": {
        "id": "P7U-2oPjhTp1"
      },
      "source": [
        "X_train, X_val, y_train, y_val = train_test_split(new_df, df_train[\"feedback\"], test_size=0.2, random_state=42, stratify=df_train[\"feedback\"])"
      ],
      "execution_count": 52,
      "outputs": []
    },
    {
      "cell_type": "code",
      "metadata": {
        "id": "pn46b-sZjC9x"
      },
      "source": [
        "#Create a svm Classifier\n",
        "clf = svm.SVC(kernel='linear') # Linear Kernel"
      ],
      "execution_count": 53,
      "outputs": []
    },
    {
      "cell_type": "code",
      "metadata": {
        "colab": {
          "base_uri": "https://localhost:8080/"
        },
        "id": "P64_C1kDkfBl",
        "outputId": "f302f0b6-3352-48f3-c819-56fd2af08c4d"
      },
      "source": [
        "#Train the model using the training sets\n",
        "clf.fit(X_train, y_train)"
      ],
      "execution_count": 54,
      "outputs": [
        {
          "output_type": "execute_result",
          "data": {
            "text/plain": [
              "SVC(kernel='linear')"
            ]
          },
          "metadata": {},
          "execution_count": 54
        }
      ]
    },
    {
      "cell_type": "markdown",
      "metadata": {
        "id": "MQpPOxmy8mUC"
      },
      "source": [
        "#Predict the response for test dataset"
      ]
    },
    {
      "cell_type": "code",
      "metadata": {
        "id": "5wXcNT1ilaSl"
      },
      "source": [
        "y_pred = clf.predict(X_val)\n"
      ],
      "execution_count": null,
      "outputs": []
    },
    {
      "cell_type": "code",
      "metadata": {
        "colab": {
          "base_uri": "https://localhost:8080/"
        },
        "id": "oS88lvMw7wYu",
        "outputId": "c220e61f-e4da-4e34-d519-0bd2ff624ae1"
      },
      "source": [
        "precision =metrics.precision_score(y_val, y_pred,average='weighted')\n",
        "precision"
      ],
      "execution_count": null,
      "outputs": [
        {
          "output_type": "stream",
          "name": "stderr",
          "text": [
            "/usr/local/lib/python3.7/dist-packages/sklearn/metrics/_classification.py:1308: UndefinedMetricWarning: Precision is ill-defined and being set to 0.0 in labels with no predicted samples. Use `zero_division` parameter to control this behavior.\n",
            "  _warn_prf(average, modifier, msg_start, len(result))\n"
          ]
        },
        {
          "output_type": "execute_result",
          "data": {
            "text/plain": [
              "0.7703206926819067"
            ]
          },
          "metadata": {},
          "execution_count": 209
        }
      ]
    },
    {
      "cell_type": "code",
      "metadata": {
        "colab": {
          "base_uri": "https://localhost:8080/"
        },
        "id": "Hcfjqf2DJXM7",
        "outputId": "dfd8b9ed-da44-4035-c13b-b7511f7e4dc5"
      },
      "source": [
        "recall =metrics.recall_score(y_val, y_pred,average='weighted')\n",
        "recall"
      ],
      "execution_count": null,
      "outputs": [
        {
          "output_type": "execute_result",
          "data": {
            "text/plain": [
              "0.877679151331457"
            ]
          },
          "metadata": {},
          "execution_count": 210
        }
      ]
    },
    {
      "cell_type": "code",
      "metadata": {
        "colab": {
          "base_uri": "https://localhost:8080/"
        },
        "id": "5YKtOelVYB3k",
        "outputId": "6c661c11-c0cd-476f-8563-880f6c5ca6cf"
      },
      "source": [
        "F2 =metrics.fbeta_score(y_val, y_pred, beta=2)\n",
        "F2"
      ],
      "execution_count": null,
      "outputs": [
        {
          "output_type": "execute_result",
          "data": {
            "text/plain": [
              "0.9728821694264459"
            ]
          },
          "metadata": {},
          "execution_count": 211
        }
      ]
    },
    {
      "cell_type": "markdown",
      "metadata": {
        "id": "78dSr0q9RrWT"
      },
      "source": [
        "#Random Forest"
      ]
    },
    {
      "cell_type": "markdown",
      "metadata": {
        "id": "4Lk5-r-SRzRb"
      },
      "source": [
        "Create a Gaussian Classifier\n"
      ]
    },
    {
      "cell_type": "code",
      "metadata": {
        "id": "B6dNYjoaRtmf"
      },
      "source": [
        "clf_rf = RandomForestClassifier(n_estimators=100)"
      ],
      "execution_count": null,
      "outputs": []
    },
    {
      "cell_type": "markdown",
      "metadata": {
        "id": "SCYxuactR2N7"
      },
      "source": [
        "Train the model using the training sets y_pred=clf.predict(X_test)\n"
      ]
    },
    {
      "cell_type": "code",
      "metadata": {
        "colab": {
          "base_uri": "https://localhost:8080/"
        },
        "id": "uVRFvPc3RxCo",
        "outputId": "9f30dd41-0d57-49c8-eaac-4ebe13583138"
      },
      "source": [
        "clf_rf.fit(X_train, y_train)"
      ],
      "execution_count": null,
      "outputs": [
        {
          "output_type": "execute_result",
          "data": {
            "text/plain": [
              "RandomForestClassifier()"
            ]
          },
          "metadata": {},
          "execution_count": 213
        }
      ]
    },
    {
      "cell_type": "code",
      "metadata": {
        "id": "bl61z8P2SBbn"
      },
      "source": [
        "y_pred_rf=clf_rf.predict(X_val)"
      ],
      "execution_count": null,
      "outputs": []
    },
    {
      "cell_type": "code",
      "metadata": {
        "id": "YZ1ceY33TWrs",
        "colab": {
          "base_uri": "https://localhost:8080/"
        },
        "outputId": "f0d7e3c5-3889-4fb7-a4a8-00402ee3e2af"
      },
      "source": [
        "precision_rf =metrics.precision_score(y_val, y_pred_rf,average='weighted')\n",
        "precision_rf"
      ],
      "execution_count": null,
      "outputs": [
        {
          "output_type": "execute_result",
          "data": {
            "text/plain": [
              "0.8617840326944726"
            ]
          },
          "metadata": {},
          "execution_count": 218
        }
      ]
    },
    {
      "cell_type": "code",
      "metadata": {
        "id": "QD8bNlC3XMEk",
        "colab": {
          "base_uri": "https://localhost:8080/"
        },
        "outputId": "43106d95-9d19-42aa-cb80-edee2875b34c"
      },
      "source": [
        "recall_rf =metrics.recall_score(y_val, y_pred_rf,average='weighted')\n",
        "recall_rf"
      ],
      "execution_count": null,
      "outputs": [
        {
          "output_type": "execute_result",
          "data": {
            "text/plain": [
              "0.8858627408529984"
            ]
          },
          "metadata": {},
          "execution_count": 219
        }
      ]
    },
    {
      "cell_type": "code",
      "metadata": {
        "colab": {
          "base_uri": "https://localhost:8080/"
        },
        "id": "-bstpDsUUz2U",
        "outputId": "e4e54bba-aed0-463f-82cd-c93420f0217a"
      },
      "source": [
        "F2_rf =metrics.fbeta_score(y_val, y_pred_rf, beta=2)\n",
        "F2_rf"
      ],
      "execution_count": null,
      "outputs": [
        {
          "output_type": "execute_result",
          "data": {
            "text/plain": [
              "0.962705227858652"
            ]
          },
          "metadata": {},
          "execution_count": 220
        }
      ]
    },
    {
      "cell_type": "markdown",
      "metadata": {
        "id": "U7eQd0IUSL1D"
      },
      "source": [
        "Model Accuracy, how often is the classifier correct?"
      ]
    },
    {
      "cell_type": "code",
      "metadata": {
        "colab": {
          "base_uri": "https://localhost:8080/"
        },
        "id": "SnTzTVHESNVI",
        "outputId": "8b524210-0c8a-4e08-8c09-d08a6ef74478"
      },
      "source": [
        "print(\"Accuracy:\",metrics.accuracy_score(y_val, y_pred))"
      ],
      "execution_count": null,
      "outputs": [
        {
          "output_type": "stream",
          "name": "stdout",
          "text": [
            "Accuracy: 0.8841307642346828\n"
          ]
        }
      ]
    },
    {
      "cell_type": "markdown",
      "metadata": {
        "id": "IqBiGDX1dKL1"
      },
      "source": [
        "#Logistic Regression"
      ]
    },
    {
      "cell_type": "code",
      "metadata": {
        "id": "pvil3UwNdMQw"
      },
      "source": [
        "logreg = LogisticRegression()"
      ],
      "execution_count": null,
      "outputs": []
    },
    {
      "cell_type": "code",
      "metadata": {
        "id": "u5ihjGYAdWz4",
        "colab": {
          "base_uri": "https://localhost:8080/"
        },
        "outputId": "76b4dda4-2f67-408a-fbef-dc04947a329c"
      },
      "source": [
        "logreg.fit(X_train,y_train)"
      ],
      "execution_count": null,
      "outputs": [
        {
          "output_type": "stream",
          "name": "stderr",
          "text": [
            "/usr/local/lib/python3.7/dist-packages/sklearn/linear_model/_logistic.py:818: ConvergenceWarning: lbfgs failed to converge (status=1):\n",
            "STOP: TOTAL NO. of ITERATIONS REACHED LIMIT.\n",
            "\n",
            "Increase the number of iterations (max_iter) or scale the data as shown in:\n",
            "    https://scikit-learn.org/stable/modules/preprocessing.html\n",
            "Please also refer to the documentation for alternative solver options:\n",
            "    https://scikit-learn.org/stable/modules/linear_model.html#logistic-regression\n",
            "  extra_warning_msg=_LOGISTIC_SOLVER_CONVERGENCE_MSG,\n"
          ]
        },
        {
          "output_type": "execute_result",
          "data": {
            "text/plain": [
              "LogisticRegression()"
            ]
          },
          "metadata": {},
          "execution_count": 223
        }
      ]
    },
    {
      "cell_type": "code",
      "metadata": {
        "id": "9YazT5z-dhCY"
      },
      "source": [
        "y_pred_reg=logreg.predict(X_val)"
      ],
      "execution_count": null,
      "outputs": []
    },
    {
      "cell_type": "code",
      "metadata": {
        "colab": {
          "base_uri": "https://localhost:8080/"
        },
        "id": "AMsLU5QndsMw",
        "outputId": "872d450e-9672-4d95-a8b0-f3e5f6822834"
      },
      "source": [
        "precision_reg =metrics.precision_score(y_val, y_pred_reg,average='weighted')\n",
        "recall_reg =metrics.recall_score(y_val, y_pred_reg,average='weighted')\n",
        "F2_reg =metrics.fbeta_score(y_val, y_pred_reg, beta=2)\n",
        "F2_reg\n"
      ],
      "execution_count": null,
      "outputs": [
        {
          "output_type": "execute_result",
          "data": {
            "text/plain": [
              "0.9725502621118728"
            ]
          },
          "metadata": {},
          "execution_count": 226
        }
      ]
    },
    {
      "cell_type": "markdown",
      "metadata": {
        "id": "wvdw1jKivqc0"
      },
      "source": [
        "#TEST"
      ]
    },
    {
      "cell_type": "code",
      "metadata": {
        "id": "Efzk1Q89vs1A"
      },
      "source": [
        "#load data train\n",
        "df_test = pd.read_csv(\"test.csv\", sep=\",\", encoding=\"utf-8\")\n",
        "df_copy = df_test.copy()\n",
        "\n",
        "df_test.replace('62bf183c-eb55-4da1-b654-f245b320c6c0', np.nan)\n",
        "\n",
        "\n",
        "\n",
        "df_test.drop(['equipment_id', 'case_id', 'action_recommendation_id', 'equipment_area','completion_date'], axis=1, inplace=True)\n",
        "\n",
        "\n",
        "quali_df_test = df_test[['action_recommendation_type', 'action_recommendation_category', 'usage_type', 'equipment_category']]\n",
        "\n",
        "\n",
        "enc_test = preprocessing.OneHotEncoder(handle_unknown='ignore')\n",
        "\n",
        "\n",
        "enc_test.fit(quali_df_test)\n",
        "\n",
        "\n",
        "onehotlabels_test = enc.transform(quali_df_test).toarray()\n",
        "\n",
        "\n",
        "quanti_vars_test = df_test[[\"speed_category\", \"load_category\", \"floors_category\"]].to_numpy()\n",
        "\n",
        "new_df_test = np.concatenate((onehotlabels_test, quanti_vars_test), axis=1)\n",
        "\n",
        "\n",
        "y_pred_test = clf.predict(new_df_test)\n",
        "\n",
        "submit= df_copy[['case_id','action_recommendation_id']].to_numpy()\n",
        "\n",
        "submit=pd.DataFrame(submit,columns=['case_id','action_recommendation_id'])\n",
        "\n",
        "\n",
        "submit.insert(2, \"feedback\", y_pred_test, allow_duplicates=False)\n",
        "\n",
        "submit.to_csv('/content/submit_final.csv', index=False)\n",
        "\n"
      ],
      "execution_count": null,
      "outputs": []
    },
    {
      "cell_type": "markdown",
      "metadata": {
        "id": "hB6J04GsYcvw"
      },
      "source": [
        "#Test"
      ]
    },
    {
      "cell_type": "markdown",
      "metadata": {
        "id": "x3OFB_t2V0W7"
      },
      "source": [
        "Eliminer les colonnes manquantes "
      ]
    },
    {
      "cell_type": "markdown",
      "metadata": {
        "id": "YPoxRhYLXJ6u"
      },
      "source": [
        "Calcul des feedback positif et négatif"
      ]
    },
    {
      "cell_type": "code",
      "metadata": {
        "colab": {
          "base_uri": "https://localhost:8080/"
        },
        "id": "ukDCawO9XPTc",
        "outputId": "808a14c2-5143-463e-888c-dc171c82270c"
      },
      "source": [
        "X_2['feedback'].value_counts(normalize=True)"
      ],
      "execution_count": null,
      "outputs": [
        {
          "output_type": "execute_result",
          "data": {
            "text/plain": [
              "1    0.877688\n",
              "0    0.122312\n",
              "Name: feedback, dtype: float64"
            ]
          },
          "metadata": {},
          "execution_count": 19
        }
      ]
    },
    {
      "cell_type": "code",
      "metadata": {
        "colab": {
          "base_uri": "https://localhost:8080/"
        },
        "id": "cbB33y7rvHsh",
        "outputId": "13132ca7-e880-4adc-f6ee-6fc8b1a1c4e5"
      },
      "source": [
        "X_2.dtypes"
      ],
      "execution_count": null,
      "outputs": [
        {
          "output_type": "execute_result",
          "data": {
            "text/plain": [
              "case_id                           int64\n",
              "completion_date                   int64\n",
              "action_recommendation_id          int64\n",
              "action_recommendation_type        int64\n",
              "action_recommendation_category    int64\n",
              "equipment_area                    int64\n",
              "usage_type                        int64\n",
              "speed_category                    int64\n",
              "load_category                     int64\n",
              "floors_category                   int64\n",
              "equipment_category                int64\n",
              "feedback                          int64\n",
              "dtype: object"
            ]
          },
          "metadata": {},
          "execution_count": 21
        }
      ]
    },
    {
      "cell_type": "markdown",
      "metadata": {
        "id": "1Pr6lqwFKJW4"
      },
      "source": [
        "STATISTIQUE DESCRIPTIF"
      ]
    },
    {
      "cell_type": "code",
      "metadata": {
        "colab": {
          "base_uri": "https://localhost:8080/",
          "height": 165
        },
        "id": "QVldsK9xKKDs",
        "outputId": "91ca3f2c-6ec5-475b-e0c7-8e9ca8d7b7ca"
      },
      "source": [
        "X_2.describe()"
      ],
      "execution_count": null,
      "outputs": [
        {
          "output_type": "error",
          "ename": "AttributeError",
          "evalue": "ignored",
          "traceback": [
            "\u001b[0;31m---------------------------------------------------------------------------\u001b[0m",
            "\u001b[0;31mAttributeError\u001b[0m                            Traceback (most recent call last)",
            "\u001b[0;32m<ipython-input-51-3166a82ba1df>\u001b[0m in \u001b[0;36m<module>\u001b[0;34m()\u001b[0m\n\u001b[0;32m----> 1\u001b[0;31m \u001b[0monehotlabels\u001b[0m\u001b[0;34m.\u001b[0m\u001b[0mdescribe\u001b[0m\u001b[0;34m(\u001b[0m\u001b[0;34m)\u001b[0m\u001b[0;34m\u001b[0m\u001b[0;34m\u001b[0m\u001b[0m\n\u001b[0m",
            "\u001b[0;31mAttributeError\u001b[0m: 'numpy.ndarray' object has no attribute 'describe'"
          ]
        }
      ]
    },
    {
      "cell_type": "markdown",
      "metadata": {
        "id": "jrIU9-6BM8ah"
      },
      "source": [
        "Class Distribution"
      ]
    },
    {
      "cell_type": "code",
      "metadata": {
        "colab": {
          "base_uri": "https://localhost:8080/"
        },
        "id": "qOsSD9grM-PM",
        "outputId": "ea83e727-a395-4a4f-9b4f-8451ef67601b"
      },
      "source": [
        "X_2.groupby('action_recommendation_category').size()"
      ],
      "execution_count": null,
      "outputs": [
        {
          "output_type": "execute_result",
          "data": {
            "text/plain": [
              "action_recommendation_category\n",
              "0    10193\n",
              "1    25727\n",
              "2    75955\n",
              "3      827\n",
              "4     1493\n",
              "5     1280\n",
              "dtype: int64"
            ]
          },
          "metadata": {},
          "execution_count": 25
        }
      ]
    },
    {
      "cell_type": "markdown",
      "metadata": {
        "id": "aZ04cL93Q9s1"
      },
      "source": [
        "Correlation entre les attributs "
      ]
    },
    {
      "cell_type": "code",
      "metadata": {
        "colab": {
          "base_uri": "https://localhost:8080/",
          "height": 446
        },
        "id": "jQcUoyqSRA1I",
        "outputId": "6f73f246-bbe1-422e-d20d-35f37550f5fe"
      },
      "source": [
        "X_2.corr(method='pearson')"
      ],
      "execution_count": null,
      "outputs": [
        {
          "output_type": "execute_result",
          "data": {
            "text/html": [
              "<div>\n",
              "<style scoped>\n",
              "    .dataframe tbody tr th:only-of-type {\n",
              "        vertical-align: middle;\n",
              "    }\n",
              "\n",
              "    .dataframe tbody tr th {\n",
              "        vertical-align: top;\n",
              "    }\n",
              "\n",
              "    .dataframe thead th {\n",
              "        text-align: right;\n",
              "    }\n",
              "</style>\n",
              "<table border=\"1\" class=\"dataframe\">\n",
              "  <thead>\n",
              "    <tr style=\"text-align: right;\">\n",
              "      <th></th>\n",
              "      <th>case_id</th>\n",
              "      <th>completion_date</th>\n",
              "      <th>action_recommendation_id</th>\n",
              "      <th>action_recommendation_type</th>\n",
              "      <th>action_recommendation_category</th>\n",
              "      <th>equipment_area</th>\n",
              "      <th>usage_type</th>\n",
              "      <th>speed_category</th>\n",
              "      <th>load_category</th>\n",
              "      <th>floors_category</th>\n",
              "      <th>equipment_category</th>\n",
              "      <th>feedback</th>\n",
              "    </tr>\n",
              "  </thead>\n",
              "  <tbody>\n",
              "    <tr>\n",
              "      <th>case_id</th>\n",
              "      <td>1.000000</td>\n",
              "      <td>-0.209332</td>\n",
              "      <td>0.084480</td>\n",
              "      <td>-0.349478</td>\n",
              "      <td>-0.046613</td>\n",
              "      <td>0.020520</td>\n",
              "      <td>-0.014881</td>\n",
              "      <td>-0.020279</td>\n",
              "      <td>-0.033196</td>\n",
              "      <td>-0.003272</td>\n",
              "      <td>0.000087</td>\n",
              "      <td>-0.042681</td>\n",
              "    </tr>\n",
              "    <tr>\n",
              "      <th>completion_date</th>\n",
              "      <td>-0.209332</td>\n",
              "      <td>1.000000</td>\n",
              "      <td>-0.087344</td>\n",
              "      <td>0.049133</td>\n",
              "      <td>-0.020876</td>\n",
              "      <td>-0.019109</td>\n",
              "      <td>0.031730</td>\n",
              "      <td>-0.034938</td>\n",
              "      <td>-0.030409</td>\n",
              "      <td>-0.021983</td>\n",
              "      <td>-0.022338</td>\n",
              "      <td>-0.015378</td>\n",
              "    </tr>\n",
              "    <tr>\n",
              "      <th>action_recommendation_id</th>\n",
              "      <td>0.084480</td>\n",
              "      <td>-0.087344</td>\n",
              "      <td>1.000000</td>\n",
              "      <td>-0.230223</td>\n",
              "      <td>-0.007881</td>\n",
              "      <td>-0.009275</td>\n",
              "      <td>-0.018359</td>\n",
              "      <td>-0.113613</td>\n",
              "      <td>-0.109110</td>\n",
              "      <td>-0.079376</td>\n",
              "      <td>-0.052588</td>\n",
              "      <td>-0.040008</td>\n",
              "    </tr>\n",
              "    <tr>\n",
              "      <th>action_recommendation_type</th>\n",
              "      <td>-0.349478</td>\n",
              "      <td>0.049133</td>\n",
              "      <td>-0.230223</td>\n",
              "      <td>1.000000</td>\n",
              "      <td>0.032518</td>\n",
              "      <td>-0.014606</td>\n",
              "      <td>0.000021</td>\n",
              "      <td>-0.013916</td>\n",
              "      <td>0.047011</td>\n",
              "      <td>-0.063425</td>\n",
              "      <td>-0.035604</td>\n",
              "      <td>0.101247</td>\n",
              "    </tr>\n",
              "    <tr>\n",
              "      <th>action_recommendation_category</th>\n",
              "      <td>-0.046613</td>\n",
              "      <td>-0.020876</td>\n",
              "      <td>-0.007881</td>\n",
              "      <td>0.032518</td>\n",
              "      <td>1.000000</td>\n",
              "      <td>-0.027535</td>\n",
              "      <td>-0.039235</td>\n",
              "      <td>0.323928</td>\n",
              "      <td>0.276001</td>\n",
              "      <td>0.291458</td>\n",
              "      <td>0.034720</td>\n",
              "      <td>0.087621</td>\n",
              "    </tr>\n",
              "    <tr>\n",
              "      <th>equipment_area</th>\n",
              "      <td>0.020520</td>\n",
              "      <td>-0.019109</td>\n",
              "      <td>-0.009275</td>\n",
              "      <td>-0.014606</td>\n",
              "      <td>-0.027535</td>\n",
              "      <td>1.000000</td>\n",
              "      <td>-0.004169</td>\n",
              "      <td>0.002108</td>\n",
              "      <td>0.026787</td>\n",
              "      <td>-0.017778</td>\n",
              "      <td>-0.004496</td>\n",
              "      <td>-0.015219</td>\n",
              "    </tr>\n",
              "    <tr>\n",
              "      <th>usage_type</th>\n",
              "      <td>-0.014881</td>\n",
              "      <td>0.031730</td>\n",
              "      <td>-0.018359</td>\n",
              "      <td>0.000021</td>\n",
              "      <td>-0.039235</td>\n",
              "      <td>-0.004169</td>\n",
              "      <td>1.000000</td>\n",
              "      <td>-0.082237</td>\n",
              "      <td>-0.216286</td>\n",
              "      <td>0.097932</td>\n",
              "      <td>0.007878</td>\n",
              "      <td>0.005777</td>\n",
              "    </tr>\n",
              "    <tr>\n",
              "      <th>speed_category</th>\n",
              "      <td>-0.020279</td>\n",
              "      <td>-0.034938</td>\n",
              "      <td>-0.113613</td>\n",
              "      <td>-0.013916</td>\n",
              "      <td>0.323928</td>\n",
              "      <td>0.002108</td>\n",
              "      <td>-0.082237</td>\n",
              "      <td>1.000000</td>\n",
              "      <td>0.434765</td>\n",
              "      <td>0.688064</td>\n",
              "      <td>0.144709</td>\n",
              "      <td>0.089443</td>\n",
              "    </tr>\n",
              "    <tr>\n",
              "      <th>load_category</th>\n",
              "      <td>-0.033196</td>\n",
              "      <td>-0.030409</td>\n",
              "      <td>-0.109110</td>\n",
              "      <td>0.047011</td>\n",
              "      <td>0.276001</td>\n",
              "      <td>0.026787</td>\n",
              "      <td>-0.216286</td>\n",
              "      <td>0.434765</td>\n",
              "      <td>1.000000</td>\n",
              "      <td>0.190428</td>\n",
              "      <td>0.186855</td>\n",
              "      <td>0.105908</td>\n",
              "    </tr>\n",
              "    <tr>\n",
              "      <th>floors_category</th>\n",
              "      <td>-0.003272</td>\n",
              "      <td>-0.021983</td>\n",
              "      <td>-0.079376</td>\n",
              "      <td>-0.063425</td>\n",
              "      <td>0.291458</td>\n",
              "      <td>-0.017778</td>\n",
              "      <td>0.097932</td>\n",
              "      <td>0.688064</td>\n",
              "      <td>0.190428</td>\n",
              "      <td>1.000000</td>\n",
              "      <td>0.142209</td>\n",
              "      <td>0.055462</td>\n",
              "    </tr>\n",
              "    <tr>\n",
              "      <th>equipment_category</th>\n",
              "      <td>0.000087</td>\n",
              "      <td>-0.022338</td>\n",
              "      <td>-0.052588</td>\n",
              "      <td>-0.035604</td>\n",
              "      <td>0.034720</td>\n",
              "      <td>-0.004496</td>\n",
              "      <td>0.007878</td>\n",
              "      <td>0.144709</td>\n",
              "      <td>0.186855</td>\n",
              "      <td>0.142209</td>\n",
              "      <td>1.000000</td>\n",
              "      <td>0.003791</td>\n",
              "    </tr>\n",
              "    <tr>\n",
              "      <th>feedback</th>\n",
              "      <td>-0.042681</td>\n",
              "      <td>-0.015378</td>\n",
              "      <td>-0.040008</td>\n",
              "      <td>0.101247</td>\n",
              "      <td>0.087621</td>\n",
              "      <td>-0.015219</td>\n",
              "      <td>0.005777</td>\n",
              "      <td>0.089443</td>\n",
              "      <td>0.105908</td>\n",
              "      <td>0.055462</td>\n",
              "      <td>0.003791</td>\n",
              "      <td>1.000000</td>\n",
              "    </tr>\n",
              "  </tbody>\n",
              "</table>\n",
              "</div>"
            ],
            "text/plain": [
              "                                 case_id  ...  feedback\n",
              "case_id                         1.000000  ... -0.042681\n",
              "completion_date                -0.209332  ... -0.015378\n",
              "action_recommendation_id        0.084480  ... -0.040008\n",
              "action_recommendation_type     -0.349478  ...  0.101247\n",
              "action_recommendation_category -0.046613  ...  0.087621\n",
              "equipment_area                  0.020520  ... -0.015219\n",
              "usage_type                     -0.014881  ...  0.005777\n",
              "speed_category                 -0.020279  ...  0.089443\n",
              "load_category                  -0.033196  ...  0.105908\n",
              "floors_category                -0.003272  ...  0.055462\n",
              "equipment_category              0.000087  ...  0.003791\n",
              "feedback                       -0.042681  ...  1.000000\n",
              "\n",
              "[12 rows x 12 columns]"
            ]
          },
          "metadata": {},
          "execution_count": 23
        }
      ]
    },
    {
      "cell_type": "markdown",
      "metadata": {
        "id": "r3Ej7WisSC2U"
      },
      "source": [
        "Skewness"
      ]
    },
    {
      "cell_type": "code",
      "metadata": {
        "colab": {
          "base_uri": "https://localhost:8080/"
        },
        "id": "bS653SgeSFS0",
        "outputId": "6b89aafa-91fe-44fe-cdf2-778609e35796"
      },
      "source": [
        "X_2.skew()"
      ],
      "execution_count": null,
      "outputs": [
        {
          "output_type": "execute_result",
          "data": {
            "text/plain": [
              "case_id                           0.232542\n",
              "completion_date                  -0.304804\n",
              "action_recommendation_id         -0.002131\n",
              "action_recommendation_type        0.957824\n",
              "action_recommendation_category    0.286227\n",
              "equipment_area                    0.073642\n",
              "usage_type                       -1.029188\n",
              "speed_category                    0.060989\n",
              "load_category                    -0.406180\n",
              "floors_category                  -0.404027\n",
              "equipment_category                1.288622\n",
              "feedback                         -2.305492\n",
              "dtype: float64"
            ]
          },
          "metadata": {},
          "execution_count": 24
        }
      ]
    },
    {
      "cell_type": "code",
      "metadata": {
        "id": "0B2mVDMztsvg"
      },
      "source": [
        "#applique le filtre dépend le feedback pour générer deux classes\n",
        "# 1 = Oui pour venir sur place \n",
        "# 0= Non pas la peine\n",
        "yes_train = X_train[X_train['feedback']==1][0:200]\n",
        "no_train = X_train[X_train['feedback']==0][0:200]\n",
        "#visualisation des données par rapport deux attributs\n",
        "axes =yes_train.plot(kind='scatter',x='action_recommendation_type',y='action_recommendation_category',color='blue',label='Yes comparision')\n",
        "no_train.plot(kind='scatter',x='action_recommendation_type',y='action_recommendation_category',color='red',label='No comparision',ax=axes)"
      ],
      "execution_count": null,
      "outputs": []
    }
  ]
}